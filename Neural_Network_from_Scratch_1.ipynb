{
 "cells": [
  {
   "cell_type": "markdown",
   "metadata": {},
   "source": [
    "## import Module"
   ]
  },
  {
   "cell_type": "code",
   "execution_count": 1,
   "metadata": {},
   "outputs": [],
   "source": [
    "import numpy as np\n"
   ]
  },
  {
   "cell_type": "markdown",
   "metadata": {},
   "source": [
    "# what is AI Neuron\n",
    "Artificial” neural networks are inspired by the organic brain, translated to the computer. It’s not\n",
    "a perfect comparison, but there are neurons, activations, and lots of interconnectivity, even if the\n",
    "underlying processes are quite different.\n",
    "\n",
    "<img src='neuron.png' height='200' width='200'/>"
   ]
  },
  {
   "cell_type": "markdown",
   "metadata": {},
   "source": [
    "# Neural network stucture\n",
    "<img src='nn.jpg' height='300' width='300'/>\n",
    "<h2>Calculate the number of bias and weight</h2>\n",
    "In this above neural network we can see that it has \n",
    "three input and two hidden layers and a output layers. \n",
    "\n",
    "<h3> Number of bias</h3> is equal to number of neuron except input neuron. Above network has 7 biases. cause each neuron has individul bias. \n",
    "so in avode network has total 11 neuron but 3 neuron are input neuron. So number of bis is 8.\n",
    "<h3>Number of weight</h3>\n",
    "is equal to Sum of number of weight * number of neuron each hidden layer\n",
    "Avobe network has (3*4)+(4*2)+(2*2)=24 weight\n",
    "\n",
    "# number of parameter is sum of wights and biases \n",
    "so total parameters is 32\n",
    "\n"
   ]
  },
  {
   "cell_type": "markdown",
   "metadata": {},
   "source": [
    "# Functon of a neuron\n",
    "<img src='functon.png' height='300' width='300'/>"
   ]
  },
  {
   "cell_type": "markdown",
   "metadata": {},
   "source": [
    "# different types of bias of a neuron function\n",
    "<img src='bias.png' height='300' width='300'/>"
   ]
  },
  {
   "cell_type": "code",
   "execution_count": null,
   "metadata": {},
   "outputs": [],
   "source": []
  }
 ],
 "metadata": {
  "kernelspec": {
   "display_name": "Python 3",
   "language": "python",
   "name": "python3"
  },
  "language_info": {
   "codemirror_mode": {
    "name": "ipython",
    "version": 3
   },
   "file_extension": ".py",
   "mimetype": "text/x-python",
   "name": "python",
   "nbconvert_exporter": "python",
   "pygments_lexer": "ipython3",
   "version": "3.8.5"
  }
 },
 "nbformat": 4,
 "nbformat_minor": 4
}
